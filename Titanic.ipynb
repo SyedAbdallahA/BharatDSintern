{
  "nbformat": 4,
  "nbformat_minor": 0,
  "metadata": {
    "colab": {
      "provenance": []
    },
    "kernelspec": {
      "name": "python3",
      "display_name": "Python 3"
    },
    "language_info": {
      "name": "python"
    }
  },
  "cells": [
    {
      "cell_type": "markdown",
      "source": [
        "#**2. Titanic Classification :**\n",
        "Make a system which tells whether the person will be\n",
        "save from sinking. What factors were\n",
        "most likely lead to success-socio-economic\n",
        "status, age, gender and more.\n",
        "\n",
        "#**Datasets link:**\n",
        "\n",
        "#**train.csv :**\n",
        " https://github.com/SyedAbdallahA/BharatDSintern/blob/main/train.csv\n",
        "\n",
        "#**test.csv :**\n",
        "https://github.com/SyedAbdallahA/BharatDSintern/blob/main/train.csv"
      ],
      "metadata": {
        "id": "pzFM3mlSRgJm"
      }
    },
    {
      "cell_type": "code",
      "source": [
        "import pandas as pd\n",
        "import numpy as np\n",
        "import matplotlib.pyplot as plt\n",
        "import seaborn as sns\n",
        "from sklearn.model_selection import train_test_split\n",
        "from sklearn.preprocessing import StandardScaler\n",
        "from sklearn.ensemble import RandomForestClassifier\n",
        "from sklearn.metrics import accuracy_score, classification_report, confusion_matrix\n",
        "\n",
        "# Load the Titanic dataset\n",
        "train_df = pd.read_csv('train.csv')\n",
        "test_df = pd.read_csv('test.csv')\n",
        "\n",
        "# Check for missing values\n",
        "train_df.isnull().sum()\n",
        "\n",
        "# Dealing with missing values\n",
        "train_df['Age'].fillna(train_df['Age'].mean(), inplace=True)\n",
        "train_df['Embarked'].fillna(train_df['Embarked'].mode()[0], inplace=True)\n",
        "train_df.dropna(subset=['Cabin'], inplace=True)\n",
        "\n",
        "# Visualize data (e.g., survival rate by gender)\n",
        "sns.countplot(x='Survived', hue='Sex', data=train_df)\n",
        "\n",
        "# Define features and target variable\n",
        "X = train_df[['Pclass', 'Sex', 'Age', 'SibSp', 'Parch', 'Fare', 'Embarked']]\n",
        "y = train_df['Survived']\n",
        "\n",
        "# Encode categorical variables\n",
        "X = pd.get_dummies(X, columns=['Sex', 'Embarked'], drop_first=True)\n",
        "\n",
        "# Split the data into training and validation sets\n",
        "X_train, X_val, y_train, y_val = train_test_split(X, y, test_size=0.2, random_state=42)\n",
        "\n",
        "# Scale features\n",
        "scaler = StandardScaler()\n",
        "X_train = scaler.fit_transform(X_train)\n",
        "X_val = scaler.transform(X_val)\n",
        "\n",
        "# Train a Random Forest Classifier\n",
        "clf = RandomForestClassifier(random_state=42)\n",
        "clf.fit(X_train, y_train)\n",
        "\n",
        "# Make predictions on the validation set\n",
        "y_pred = clf.predict(X_val)\n",
        "\n",
        "# Evaluate the model\n",
        "accuracy = accuracy_score(y_val, y_pred)\n",
        "confusion = confusion_matrix(y_val, y_pred)\n",
        "classification_rep = classification_report(y_val, y_pred)\n",
        "\n",
        "print(f'Accuracy: {accuracy}')\n",
        "print(f'Confusion Matrix:\\n{confusion}')\n",
        "print(f'Classification Report:\\n{classification_rep}')\n",
        "\n",
        "# Preprocess the test data\n",
        "test_data = test_df[['Pclass', 'Sex', 'Age', 'SibSp', 'Parch', 'Fare', 'Embarked']]\n",
        "test_data = pd.get_dummies(test_data, columns=['Sex', 'Embarked'], drop_first=True)\n",
        "\n",
        "# Handle missing values in the test data\n",
        "test_data['Age'].fillna(train_df['Age'].mean(), inplace=True)\n",
        "test_data['Fare'].fillna(train_df['Fare'].mean(), inplace=True)\n",
        "\n",
        "# Scale features in the test data\n",
        "test_data = scaler.transform(test_data)\n",
        "\n",
        "# Make predictions on the test data\n",
        "test_predictions = clf.predict(test_data)\n",
        "\n",
        "# Create a DataFrame with the PassengerId and the predicted Survived values\n",
        "submission_df = pd.DataFrame({'PassengerId': test_df['PassengerId'], 'Survived': test_predictions})\n",
        "\n",
        "# Save the DataFrame to a CSV file for submission\n",
        "submission_df.to_csv('titanic_submission.csv', index=False)\n"
      ],
      "metadata": {
        "colab": {
          "base_uri": "https://localhost:8080/",
          "height": 692
        },
        "id": "k-nuwAQZRP9m",
        "outputId": "fc7a5dbc-3a61-4fe3-9af6-b040da50c73c"
      },
      "execution_count": 37,
      "outputs": [
        {
          "output_type": "stream",
          "name": "stdout",
          "text": [
            "Accuracy: 0.8536585365853658\n",
            "Confusion Matrix:\n",
            "[[ 6  5]\n",
            " [ 1 29]]\n",
            "Classification Report:\n",
            "              precision    recall  f1-score   support\n",
            "\n",
            "           0       0.86      0.55      0.67        11\n",
            "           1       0.85      0.97      0.91        30\n",
            "\n",
            "    accuracy                           0.85        41\n",
            "   macro avg       0.86      0.76      0.79        41\n",
            "weighted avg       0.85      0.85      0.84        41\n",
            "\n"
          ]
        },
        {
          "output_type": "display_data",
          "data": {
            "text/plain": [
              "<Figure size 640x480 with 1 Axes>"
            ],
            "image/png": "[encoded data removed]"
          },
          "metadata": {}
        }
      ]
    },
    {
      "cell_type": "markdown",
      "source": [
        "# **titanic_submission.csv :**\n",
        "\n",
        "https://github.com/SyedAbdallahA/BharatDSintern/blob/main/titanic_submission.csv"
      ],
      "metadata": {
        "id": "GMVV8xnCRqHy"
      }
    }
  ]
}